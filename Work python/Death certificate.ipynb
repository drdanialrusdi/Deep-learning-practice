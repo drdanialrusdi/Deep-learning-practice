{
 "cells": [
  {
   "cell_type": "code",
   "execution_count": 1,
   "metadata": {},
   "outputs": [
    {
     "name": "stderr",
     "output_type": "stream",
     "text": [
      "c:\\users\\trick\\anaconda3\\envs\\tensorflow\\lib\\site-packages\\h5py\\__init__.py:36: FutureWarning: Conversion of the second argument of issubdtype from `float` to `np.floating` is deprecated. In future, it will be treated as `np.float64 == np.dtype(float).type`.\n",
      "  from ._conv import register_converters as _register_converters\n"
     ]
    }
   ],
   "source": [
    "from PIL import Image\n",
    "import tensorflow as tf\n",
    "import glob"
   ]
  },
  {
   "cell_type": "code",
   "execution_count": 3,
   "metadata": {},
   "outputs": [],
   "source": [
    "PATH='Document Scanning\\\\'"
   ]
  },
  {
   "cell_type": "code",
   "execution_count": 37,
   "metadata": {},
   "outputs": [],
   "source": [
    "directory_image=glob.glob(PATH+'*.jpg')"
   ]
  },
  {
   "cell_type": "code",
   "execution_count": 59,
   "metadata": {},
   "outputs": [],
   "source": [
    "certificate_picture=[]\n",
    "selected_path=[]\n",
    "\n",
    "for item in directory_image:\n",
    "    picture = Image.open(item)\n",
    "    x,y = picture.size\n",
    "    if x >=660 and y >=933:\n",
    "        certificate_picture.append(picture.convert('L').resize((660,933)))\n",
    "        selected_path.append(item)"
   ]
  },
  {
   "cell_type": "code",
   "execution_count": 68,
   "metadata": {},
   "outputs": [
    {
     "ename": "SyntaxError",
     "evalue": "invalid syntax (<ipython-input-68-59f11648f697>, line 4)",
     "output_type": "error",
     "traceback": [
      "\u001b[1;36m  File \u001b[1;32m\"<ipython-input-68-59f11648f697>\"\u001b[1;36m, line \u001b[1;32m4\u001b[0m\n\u001b[1;33m    location['right_logo'] = gambar.crop((,,,,))\u001b[0m\n\u001b[1;37m                                          ^\u001b[0m\n\u001b[1;31mSyntaxError\u001b[0m\u001b[1;31m:\u001b[0m invalid syntax\n"
     ]
    }
   ],
   "source": [
    "def information_location(gambar):\n",
    "    location={}\n",
    "    location['left_logo'] = gambar.crop((130,10,210,75))\n",
    "    location['right_logo'] = gambar.crop((,,,,))\n",
    "    location['nama'] = gambar.crop((,,,,))\n",
    "    location['umur'] = gambar.crop((,,,,))\n",
    "    location['tarikh_waktu_kematian'] = gambar.crop((,,,,))\n",
    "    location['keturunan'] = gambar.crop((,,,,))\n",
    "    location['alamat_terakhir'] = gambar.crop((,,,,)) = gambar.crop((,,,,))\n",
    "    location['tempat_kematian'] = gambar.crop((,,,,))\n",
    "    location['sebab_kematian'] = gambar.crop((,,,,))\n",
    "    location['pengesah'] = gambar.crop((,,,,))\n",
    "    \n",
    "    return location"
   ]
  },
  {
   "cell_type": "code",
   "execution_count": null,
   "metadata": {},
   "outputs": [],
   "source": [
    "def right_location(location,guide_image):"
   ]
  }
 ],
 "metadata": {
  "kernelspec": {
   "display_name": "Python 3",
   "language": "python",
   "name": "python3"
  },
  "language_info": {
   "codemirror_mode": {
    "name": "ipython",
    "version": 3
   },
   "file_extension": ".py",
   "mimetype": "text/x-python",
   "name": "python",
   "nbconvert_exporter": "python",
   "pygments_lexer": "ipython3",
   "version": "3.5.4"
  }
 },
 "nbformat": 4,
 "nbformat_minor": 2
}
